{
 "cells": [
  {
   "cell_type": "code",
   "execution_count": null,
   "metadata": {},
   "outputs": [],
   "source": [
    "## Chinese(simplied) to Chinese(tranditional)"
   ]
  },
  {
   "cell_type": "code",
   "execution_count": 2,
   "metadata": {},
   "outputs": [
    {
     "data": {
      "text/plain": [
       "'漢字'"
      ]
     },
     "execution_count": 2,
     "metadata": {},
     "output_type": "execute_result"
    }
   ],
   "source": [
    "import opencc\n",
    "converter = opencc.OpenCC('s2t.json')\n",
    "converter.convert('汉字')  # 漢字"
   ]
  },
  {
   "cell_type": "code",
   "execution_count": 33,
   "metadata": {},
   "outputs": [
    {
     "name": "stdout",
     "output_type": "stream",
     "text": [
      "chinese_stopword_simplied\\baidu_stopwords.txt\n",
      "chinese_stopword_simplied\\cn_stopwords.txt\n",
      "chinese_stopword_simplied\\hit_stopwords.txt\n",
      "chinese_stopword_simplied\\scu_stopwords.txt\n"
     ]
    }
   ],
   "source": [
    "import pathlib\n",
    "import re\n",
    "flist = []\n",
    "word_list =[]\n",
    "for p in pathlib.Path('chinese_stopword_simplied').iterdir():\n",
    "    if p.is_file() and str(p).endswith(\"txt\"):\n",
    "        print(p)\n",
    "        with open(p,\"r\",encoding='utf-8') as f:\n",
    "            words = f.read().splitlines()\n",
    "            for word in words:\n",
    "                if re.findall(\"[a-zA-z]+\",word):\n",
    "                    continue\n",
    "                # print(words)\n",
    "                word = converter.convert(word)\n",
    "                word_list.append(word)\n",
    "\n"
   ]
  },
  {
   "cell_type": "code",
   "execution_count": 36,
   "metadata": {},
   "outputs": [
    {
     "name": "stdout",
     "output_type": "stream",
     "text": [
      "3330\n",
      "1751\n"
     ]
    }
   ],
   "source": [
    "# remove duplicate\n",
    "print(len(word_list))\n",
    "word_list = list(set(word_list))\n",
    "print(len(word_list))"
   ]
  },
  {
   "cell_type": "code",
   "execution_count": 37,
   "metadata": {},
   "outputs": [],
   "source": [
    "with open(\"chinese_stopword_tranditional/stopword_tranditional.txt\", 'w') as output:\n",
    "    for row in word_list:\n",
    "        output.write(str(row) + '\\n')"
   ]
  }
 ],
 "metadata": {
  "interpreter": {
   "hash": "3ffa5b9ea856ed8ffaf5105c7cda503ceb4538c7650d33f63eca5c51fb008d20"
  },
  "kernelspec": {
   "display_name": "Python 3.8.5 ('base')",
   "language": "python",
   "name": "python3"
  },
  "language_info": {
   "codemirror_mode": {
    "name": "ipython",
    "version": 3
   },
   "file_extension": ".py",
   "mimetype": "text/x-python",
   "name": "python",
   "nbconvert_exporter": "python",
   "pygments_lexer": "ipython3",
   "version": "3.8.5"
  },
  "orig_nbformat": 4
 },
 "nbformat": 4,
 "nbformat_minor": 2
}
